{
 "cells": [
  {
   "cell_type": "code",
   "execution_count": 6,
   "metadata": {},
   "outputs": [
    {
     "name": "stdout",
     "output_type": "stream",
     "text": [
      "{'zero': 0, 'one': 1, 'two': 2, 'three': 3, 'four': 4, 'five': 5}\n",
      "6\n",
      "1\n"
     ]
    }
   ],
   "source": [
    "int_dict = {\n",
    "    'zero': 0,\n",
    "    'one': 1,\n",
    "    'two': 2,\n",
    "    'three': 3,\n",
    "    'four': 4,\n",
    "    'five': 5\n",
    "}\n",
    "\n",
    "print(int_dict)\n",
    "print(len(int_dict))\n",
    "print(int_dict['one'])"
   ]
  },
  {
   "cell_type": "code",
   "execution_count": 11,
   "metadata": {},
   "outputs": [
    {
     "name": "stdout",
     "output_type": "stream",
     "text": [
      "['something wrong', 'should not have this']\n",
      "ah hah this is correct title\n",
      "{'title': 'ah hah this is correct title', 'content': 'lorem ipsum klsdjf slkdfjslkfjsdfl', 400: ['something wrong', 'should not have this'], 'year': 1991}\n"
     ]
    }
   ],
   "source": [
    "my_dict = {\n",
    "    'title': 'some big title',\n",
    "    'content': 'lorem ipsum klsdjf slkdfjslkfjsdfl',\n",
    "    400: ['something wrong', 'should not have this'] # key can be integer\n",
    "}\n",
    "\n",
    "print(my_dict[400])\n",
    "\n",
    "my_dict['title'] = 'ah hah this is correct title'\n",
    "print(my_dict['title'])\n",
    "\n",
    "my_dict['year'] = 1991\n",
    "print(my_dict)"
   ]
  },
  {
   "cell_type": "code",
   "execution_count": 12,
   "metadata": {},
   "outputs": [
    {
     "name": "stdout",
     "output_type": "stream",
     "text": [
      "dict_items([('title', 'ah hah this is correct title'), ('content', 'lorem ipsum klsdjf slkdfjslkfjsdfl'), (400, ['something wrong', 'should not have this']), ('year', 1991)])\n"
     ]
    }
   ],
   "source": [
    "print(my_dict.items()) # returns list of tuples"
   ]
  }
 ],
 "metadata": {
  "kernelspec": {
   "display_name": "Python 3",
   "language": "python",
   "name": "python3"
  },
  "language_info": {
   "codemirror_mode": {
    "name": "ipython",
    "version": 3
   },
   "file_extension": ".py",
   "mimetype": "text/x-python",
   "name": "python",
   "nbconvert_exporter": "python",
   "pygments_lexer": "ipython3",
   "version": "3.6.3"
  }
 },
 "nbformat": 4,
 "nbformat_minor": 2
}
