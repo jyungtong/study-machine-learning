{
 "cells": [
  {
   "cell_type": "code",
   "execution_count": 1,
   "metadata": {},
   "outputs": [],
   "source": [
    "import numpy as np"
   ]
  },
  {
   "cell_type": "code",
   "execution_count": 3,
   "metadata": {},
   "outputs": [
    {
     "name": "stdout",
     "output_type": "stream",
     "text": [
      "[0 1 2 3]\n",
      "<class 'numpy.ndarray'>\n"
     ]
    }
   ],
   "source": [
    "array_a = np.array([0,1,2,3])\n",
    "\n",
    "print(array_a)\n",
    "print(type(array_a))"
   ]
  },
  {
   "cell_type": "code",
   "execution_count": 4,
   "metadata": {},
   "outputs": [
    {
     "name": "stdout",
     "output_type": "stream",
     "text": [
      "int64\n"
     ]
    }
   ],
   "source": [
    "print(array_a.dtype)"
   ]
  },
  {
   "cell_type": "code",
   "execution_count": 11,
   "metadata": {},
   "outputs": [
    {
     "name": "stdout",
     "output_type": "stream",
     "text": [
      "['0' 'one' '2' '3' '4']\n"
     ]
    }
   ],
   "source": [
    "# np array must be in same type, else it will become string\n",
    "array_b = np.array([0, 'one', 2, 3,4])\n",
    "print(array_b)\n"
   ]
  },
  {
   "cell_type": "code",
   "execution_count": 12,
   "metadata": {
    "scrolled": true
   },
   "outputs": [
    {
     "name": "stdout",
     "output_type": "stream",
     "text": [
      "(4,)\n",
      "(5,)\n"
     ]
    }
   ],
   "source": [
    "print(array_a.shape)\n",
    "print(array_b.shape)"
   ]
  },
  {
   "cell_type": "code",
   "execution_count": 15,
   "metadata": {},
   "outputs": [
    {
     "name": "stdout",
     "output_type": "stream",
     "text": [
      "0\n",
      "4\n",
      "[1 2]\n"
     ]
    }
   ],
   "source": [
    "print(array_a[0])\n",
    "print(array_b[-1])\n",
    "print(array_a[1:3])"
   ]
  },
  {
   "cell_type": "code",
   "execution_count": 17,
   "metadata": {},
   "outputs": [
    {
     "name": "stdout",
     "output_type": "stream",
     "text": [
      "[1.2 3.2 4.  5.3 nan 3.9]\n",
      "float64\n"
     ]
    }
   ],
   "source": [
    "# np allows set NaN\n",
    "array_with_nan_value = np.array([1.2, 3.2, 4.0, 5.3, np.nan, 3.9])\n",
    "\n",
    "print(array_with_nan_value)\n",
    "print(array_with_nan_value.dtype)\n",
    "\n",
    "# the nan can preserve the array's dtype"
   ]
  },
  {
   "cell_type": "code",
   "execution_count": 31,
   "metadata": {},
   "outputs": [
    {
     "name": "stdout",
     "output_type": "stream",
     "text": [
      "[[1 2 3]\n",
      " [4 5 6]]\n",
      "(2, 3)\n"
     ]
    }
   ],
   "source": [
    "### Multidimensional\n",
    "array_c = np.array([[1,2,3], [4,5,6]])\n",
    "print(array_c)\n",
    "print(array_c.shape)"
   ]
  },
  {
   "cell_type": "code",
   "execution_count": 32,
   "metadata": {},
   "outputs": [
    {
     "name": "stdout",
     "output_type": "stream",
     "text": [
      "[[1 2]\n",
      " [3 4]\n",
      " [5 6]]\n"
     ]
    }
   ],
   "source": [
    "# Reshape\n",
    "print(array_c.reshape(3,2))"
   ]
  },
  {
   "cell_type": "code",
   "execution_count": 33,
   "metadata": {},
   "outputs": [
    {
     "name": "stdout",
     "output_type": "stream",
     "text": [
      "[[1 2 3 4 5 6]]\n"
     ]
    }
   ],
   "source": [
    "print(array_c.reshape(1,6))"
   ]
  },
  {
   "cell_type": "code",
   "execution_count": 34,
   "metadata": {},
   "outputs": [
    {
     "name": "stdout",
     "output_type": "stream",
     "text": [
      "2\n"
     ]
    }
   ],
   "source": [
    "print(len(array_c.reshape(1,6).shape))"
   ]
  },
  {
   "cell_type": "code",
   "execution_count": 35,
   "metadata": {},
   "outputs": [
    {
     "name": "stdout",
     "output_type": "stream",
     "text": [
      "[1 2 3 4 5 6]\n",
      "[1 2 3 4 5 6]\n"
     ]
    }
   ],
   "source": [
    "# reduce and reshape axes\n",
    "print(array_c.reshape(6,))\n",
    "\n",
    "print(array_c.flatten())"
   ]
  },
  {
   "cell_type": "code",
   "execution_count": 36,
   "metadata": {},
   "outputs": [
    {
     "name": "stdout",
     "output_type": "stream",
     "text": [
      "[[1 4]\n",
      " [2 5]\n",
      " [3 6]]\n"
     ]
    }
   ],
   "source": [
    "print(array_c.transpose())"
   ]
  },
  {
   "cell_type": "code",
   "execution_count": 37,
   "metadata": {},
   "outputs": [
    {
     "name": "stdout",
     "output_type": "stream",
     "text": [
      "[[1 2 3]\n",
      " [4 5 6]\n",
      " [7 8 9]]\n"
     ]
    }
   ],
   "source": [
    "array_d = np.array(range(1,10)).reshape(3,3)\n",
    "print(array_d)"
   ]
  },
  {
   "cell_type": "code",
   "execution_count": 46,
   "metadata": {},
   "outputs": [
    {
     "name": "stdout",
     "output_type": "stream",
     "text": [
      "[1 2 3]\n",
      "[[5 6]\n",
      " [8 9]]\n"
     ]
    }
   ],
   "source": [
    "print(array_d[0, :]) # [x, y] x=>row, y=> column\n",
    "print(array_d[1:, 1:])"
   ]
  },
  {
   "cell_type": "code",
   "execution_count": 47,
   "metadata": {},
   "outputs": [
    {
     "name": "stdout",
     "output_type": "stream",
     "text": [
      "[[  1   2   3   4   5   6   7   8   9  10]\n",
      " [ 11  12  13  14  15  16  17  18  19  20]\n",
      " [ 21  22  23  24  25  26  27  28  29  30]\n",
      " [ 31  32  33  34  35  36  37  38  39  40]\n",
      " [ 41  42  43  44  45  46  47  48  49  50]\n",
      " [ 51  52  53  54  55  56  57  58  59  60]\n",
      " [ 61  62  63  64  65  66  67  68  69  70]\n",
      " [ 71  72  73  74  75  76  77  78  79  80]\n",
      " [ 81  82  83  84  85  86  87  88  89  90]\n",
      " [ 91  92  93  94  95  96  97  98  99 100]\n",
      " [101 102 103 104 105 106 107 108 109 110]\n",
      " [111 112 113 114 115 116 117 118 119 120]\n",
      " [121 122 123 124 125 126 127 128 129 130]\n",
      " [131 132 133 134 135 136 137 138 139 140]\n",
      " [141 142 143 144 145 146 147 148 149 150]\n",
      " [151 152 153 154 155 156 157 158 159 160]\n",
      " [161 162 163 164 165 166 167 168 169 170]]\n"
     ]
    }
   ],
   "source": [
    "# Toy problem\n",
    "mini_business_ids = np.array(range(1, 171))\n",
    "\n",
    "mini_id_matrix = mini_business_ids.reshape(17, 10)\n",
    "\n",
    "print(mini_id_matrix)"
   ]
  },
  {
   "cell_type": "code",
   "execution_count": 48,
   "metadata": {},
   "outputs": [
    {
     "name": "stdout",
     "output_type": "stream",
     "text": [
      "[[  1   2   3   4   5   6   7   8   9  10  11  12  13  14  15  16  17]\n",
      " [ 18  19  20  21  22  23  24  25  26  27  28  29  30  31  32  33  34]\n",
      " [ 35  36  37  38  39  40  41  42  43  44  45  46  47  48  49  50  51]\n",
      " [ 52  53  54  55  56  57  58  59  60  61  62  63  64  65  66  67  68]\n",
      " [ 69  70  71  72  73  74  75  76  77  78  79  80  81  82  83  84  85]\n",
      " [ 86  87  88  89  90  91  92  93  94  95  96  97  98  99 100 101 102]\n",
      " [103 104 105 106 107 108 109 110 111 112 113 114 115 116 117 118 119]\n",
      " [120 121 122 123 124 125 126 127 128 129 130 131 132 133 134 135 136]\n",
      " [137 138 139 140 141 142 143 144 145 146 147 148 149 150 151 152 153]\n",
      " [154 155 156 157 158 159 160 161 162 163 164 165 166 167 168 169 170]]\n"
     ]
    }
   ],
   "source": [
    "# so when i want 10 rows 17 cols\n",
    "mini_id_matrix = mini_business_ids.reshape(10, 17)\n",
    "\n",
    "print(mini_id_matrix)"
   ]
  },
  {
   "cell_type": "code",
   "execution_count": 49,
   "metadata": {},
   "outputs": [
    {
     "name": "stdout",
     "output_type": "stream",
     "text": [
      "[[  1  18  35  52  69  86 103 120 137 154]\n",
      " [  2  19  36  53  70  87 104 121 138 155]\n",
      " [  3  20  37  54  71  88 105 122 139 156]\n",
      " [  4  21  38  55  72  89 106 123 140 157]\n",
      " [  5  22  39  56  73  90 107 124 141 158]\n",
      " [  6  23  40  57  74  91 108 125 142 159]\n",
      " [  7  24  41  58  75  92 109 126 143 160]\n",
      " [  8  25  42  59  76  93 110 127 144 161]\n",
      " [  9  26  43  60  77  94 111 128 145 162]\n",
      " [ 10  27  44  61  78  95 112 129 146 163]\n",
      " [ 11  28  45  62  79  96 113 130 147 164]\n",
      " [ 12  29  46  63  80  97 114 131 148 165]\n",
      " [ 13  30  47  64  81  98 115 132 149 166]\n",
      " [ 14  31  48  65  82  99 116 133 150 167]\n",
      " [ 15  32  49  66  83 100 117 134 151 168]\n",
      " [ 16  33  50  67  84 101 118 135 152 169]\n",
      " [ 17  34  51  68  85 102 119 136 153 170]]\n"
     ]
    }
   ],
   "source": [
    "print(mini_id_matrix.transpose())"
   ]
  },
  {
   "cell_type": "code",
   "execution_count": 50,
   "metadata": {},
   "outputs": [],
   "source": [
    "# Elementwise\n",
    "x = np.array([[1.0, 2.0], [3.0, 4.0]])\n",
    "\n",
    "y = np.array([[2.0, 5.0], [6.0, 7.0]])"
   ]
  },
  {
   "cell_type": "code",
   "execution_count": 51,
   "metadata": {},
   "outputs": [
    {
     "name": "stdout",
     "output_type": "stream",
     "text": [
      "[[ 3.  7.]\n",
      " [ 9. 11.]]\n"
     ]
    }
   ],
   "source": [
    "print(x + y)"
   ]
  },
  {
   "cell_type": "code",
   "execution_count": 52,
   "metadata": {},
   "outputs": [
    {
     "name": "stdout",
     "output_type": "stream",
     "text": [
      "[[-1. -3.]\n",
      " [-3. -3.]]\n"
     ]
    }
   ],
   "source": [
    "print(x - y)"
   ]
  },
  {
   "cell_type": "code",
   "execution_count": 53,
   "metadata": {},
   "outputs": [
    {
     "name": "stdout",
     "output_type": "stream",
     "text": [
      "[[0.5        0.4       ]\n",
      " [0.5        0.57142857]]\n"
     ]
    }
   ],
   "source": [
    "print(x/y)"
   ]
  },
  {
   "cell_type": "code",
   "execution_count": 54,
   "metadata": {},
   "outputs": [
    {
     "name": "stdout",
     "output_type": "stream",
     "text": [
      "[[1. 2.]\n",
      " [3. 4.]]\n"
     ]
    }
   ],
   "source": [
    "print( x % y)"
   ]
  },
  {
   "cell_type": "code",
   "execution_count": 55,
   "metadata": {},
   "outputs": [
    {
     "name": "stdout",
     "output_type": "stream",
     "text": [
      "[[3. 4.]\n",
      " [5. 6.]]\n"
     ]
    }
   ],
   "source": [
    "# scalar\n",
    "print( x + 2 )"
   ]
  },
  {
   "cell_type": "code",
   "execution_count": 60,
   "metadata": {},
   "outputs": [
    {
     "name": "stdout",
     "output_type": "stream",
     "text": [
      "[[ 3.  7. 11.]\n",
      " [ 9. 11. 14.]]\n",
      "[[0. 1. 0.]\n",
      " [0. 1. 0.]]\n"
     ]
    }
   ],
   "source": [
    "more_x = np.array([[1.0, 2.0, 5.0], [3.0, 4.0, 6.0]])\n",
    "more_y = np.array([[2.0, 5.0, 6.0], [6.0, 7.0, 8.0]])\n",
    "\n",
    "print(more_y + more_x)\n",
    "print(more_y % 2)"
   ]
  },
  {
   "cell_type": "code",
   "execution_count": 61,
   "metadata": {},
   "outputs": [
    {
     "data": {
      "text/plain": [
       "array([[ 1.,  8.],\n",
       "       [27., 64.]])"
      ]
     },
     "execution_count": 61,
     "metadata": {},
     "output_type": "execute_result"
    }
   ],
   "source": [
    "np.power(x, 3)"
   ]
  },
  {
   "cell_type": "code",
   "execution_count": 62,
   "metadata": {},
   "outputs": [
    {
     "name": "stdout",
     "output_type": "stream",
     "text": [
      "[[1. 2.]\n",
      " [3. 4.]]\n",
      "10.0\n"
     ]
    }
   ],
   "source": [
    "print(x)\n",
    "print(np.sum(x))"
   ]
  },
  {
   "cell_type": "code",
   "execution_count": 66,
   "metadata": {},
   "outputs": [
    {
     "name": "stdout",
     "output_type": "stream",
     "text": [
      "[4. 6.]\n"
     ]
    }
   ],
   "source": [
    "# axis=0 across column\n",
    "# axis=1 across row\n",
    "print(np.sum(x, axis=0))"
   ]
  },
  {
   "cell_type": "code",
   "execution_count": 67,
   "metadata": {},
   "outputs": [
    {
     "name": "stdout",
     "output_type": "stream",
     "text": [
      "[4 8 4 1 4 2 0 3 6 9 0 5 8 9 4 5 1 4 8 4 6 2 5 4 2 2 1 5 1 5 3 7 7 9 1 9 0\n",
      " 6 0 2 7 0 4 1 4 8 6 2 0 9 8 9 0 8 3 6 4 0 3 2 5 6 6 7]\n"
     ]
    }
   ],
   "source": [
    "# Random\n",
    "sample = np.random.randint(low=0, high=10, size=64)\n",
    "print(sample)"
   ]
  },
  {
   "cell_type": "code",
   "execution_count": 68,
   "metadata": {},
   "outputs": [
    {
     "name": "stdout",
     "output_type": "stream",
     "text": [
      "[[4 8 4 1 4 2 0 3]\n",
      " [6 9 0 5 8 9 4 5]\n",
      " [1 4 8 4 6 2 5 4]\n",
      " [2 2 1 5 1 5 3 7]\n",
      " [7 9 1 9 0 6 0 2]\n",
      " [7 0 4 1 4 8 6 2]\n",
      " [0 9 8 9 0 8 3 6]\n",
      " [4 0 3 2 5 6 6 7]]\n"
     ]
    }
   ],
   "source": [
    "print(sample.reshape(8, 8))"
   ]
  },
  {
   "cell_type": "code",
   "execution_count": 69,
   "metadata": {},
   "outputs": [
    {
     "name": "stdout",
     "output_type": "stream",
     "text": [
      "[[1 3 4 3 6 2 6 4]\n",
      " [0 5 8 8 0 2 8 1]\n",
      " [4 6 6 9 8 2 1 4]\n",
      " [3 7 2 2 1 7 9 7]\n",
      " [7 2 9 3 5 1 1 9]\n",
      " [1 0 3 4 5 3 9 5]\n",
      " [5 0 7 9 7 2 0 3]\n",
      " [5 0 1 9 2 5 1 0]]\n"
     ]
    }
   ],
   "source": [
    "generated_matrix = np.random.randint(0, 10, (8, 8))\n",
    "print(generated_matrix)"
   ]
  },
  {
   "cell_type": "code",
   "execution_count": 73,
   "metadata": {},
   "outputs": [
    {
     "name": "stdout",
     "output_type": "stream",
     "text": [
      "[[7 8 7 9 7 2 2 4]\n",
      " [8 9 6 6 7 8 1 6]\n",
      " [6 2 2 9 8 1 7 3]\n",
      " [1 3 9 3 4 8 8 7]\n",
      " [9 4 1 6 4 4 2 5]\n",
      " [7 4 2 3 9 2 4 8]\n",
      " [6 3 8 8 7 4 3 2]\n",
      " [9 1 2 0 3 8 2 1]]\n"
     ]
    }
   ],
   "source": [
    "np.random.seed(1337)\n",
    "\n",
    "generated_matrix = np.random.randint(0, 10, (8, 8))\n",
    "print(generated_matrix)"
   ]
  },
  {
   "cell_type": "code",
   "execution_count": 74,
   "metadata": {},
   "outputs": [
    {
     "name": "stdout",
     "output_type": "stream",
     "text": [
      "[7 6 9 7 7]\n"
     ]
    }
   ],
   "source": [
    "np.random.seed(55)\n",
    "\n",
    "# randomly select 5 elements from the first column\n",
    "print(np.random.choice(generated_matrix[:, 0], 5))\n",
    "\n",
    "# take note the triple 7, meanwhile first column only has two 7"
   ]
  },
  {
   "cell_type": "code",
   "execution_count": 76,
   "metadata": {},
   "outputs": [
    {
     "name": "stdout",
     "output_type": "stream",
     "text": [
      "[9 9 6 8 1]\n"
     ]
    }
   ],
   "source": [
    "np.random.seed(55)\n",
    "print(np.random.choice(generated_matrix[:, 0], 5, replace=False))"
   ]
  },
  {
   "cell_type": "code",
   "execution_count": null,
   "metadata": {},
   "outputs": [],
   "source": []
  }
 ],
 "metadata": {
  "kernelspec": {
   "display_name": "Python 3",
   "language": "python",
   "name": "python3"
  },
  "language_info": {
   "codemirror_mode": {
    "name": "ipython",
    "version": 3
   },
   "file_extension": ".py",
   "mimetype": "text/x-python",
   "name": "python",
   "nbconvert_exporter": "python",
   "pygments_lexer": "ipython3",
   "version": "3.6.3"
  }
 },
 "nbformat": 4,
 "nbformat_minor": 2
}
