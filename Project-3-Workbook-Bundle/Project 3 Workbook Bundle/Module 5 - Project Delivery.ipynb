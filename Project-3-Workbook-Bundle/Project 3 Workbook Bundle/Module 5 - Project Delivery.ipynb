{
 "cells": [
  {
   "cell_type": "markdown",
   "metadata": {},
   "source": [
    "<h1 style=\"font-size:42px; text-align:center; margin-bottom:30px;\"><span style=\"color:SteelBlue\">Module 5:</span> Project Delivery</h1>\n",
    "<hr>\n",
    "\n",
    "Congratulations on making it to the final module of Project 3! \n",
    "* You've come a long way up to this point. \n",
    "* You've taken this project from a simple dataset all the way to a high-performing predictive model. \n",
    "* Most importantly, you came up with almost all of the mission-critical code on your own!\n",
    "\n",
    "Now, we'll show you how you can use your model to predict brand new (**raw**) data and package your work together into an executable script.\n",
    "\n",
    "Before moving on, we also recommend opening your Companion Workbook for <span style=\"color:royalblue\">Module 2: ABT Construction</span>.\n",
    "\n",
    "<br><hr id=\"toc\">\n",
    "\n",
    "### In this module...\n",
    "\n",
    "First, we'll import libraries and load our model from Module 4.\n",
    "\n",
    "Then, we'll cover these steps:\n",
    "\n",
    "1. [Confirm your model was saved correctly](#confirm)\n",
    "2. [Write pre-modeling functions](#pre-model)\n",
    "3. [Construct a model class](#model-class)\n",
    "4. [Method 1: Jupyter notebook](#jupyter)\n",
    "5. [Method 2: Executable script](#exectuable)\n",
    "\n",
    "<br><hr>"
   ]
  },
  {
   "cell_type": "markdown",
   "metadata": {},
   "source": [
    "### First, let's import libraries and load the model.\n",
    "\n",
    "First, let's import the libraries that we'll need."
   ]
  },
  {
   "cell_type": "code",
   "execution_count": null,
   "metadata": {
    "collapsed": false
   },
   "outputs": [],
   "source": [
    "# print_function for compatibility with Python 3\n",
    "\n",
    "# NumPy for numerical computing\n",
    "\n",
    "# Pandas for DataFrames\n",
    "\n",
    "\n",
    "# Pickle for reading model files\n",
    "\n",
    "# Scikit-Learn for Modeling\n"
   ]
  },
  {
   "cell_type": "markdown",
   "metadata": {},
   "source": [
    "Next, let's import the helpers for the **area under ROC curve** metric (you'll see why soon). Now, if we don't need to actually plot the ROC curve, there's a shortcut function called <code style=\"color:steelblue\">roc_auc_score()</code> that we can import instead."
   ]
  },
  {
   "cell_type": "code",
   "execution_count": null,
   "metadata": {
    "collapsed": true
   },
   "outputs": [],
   "source": [
    "# Area under ROC curve\n",
    "from sklearn.metrics import roc_auc_score"
   ]
  },
  {
   "cell_type": "markdown",
   "metadata": {},
   "source": [
    "Next, load the final model saved from Module 4."
   ]
  },
  {
   "cell_type": "code",
   "execution_count": null,
   "metadata": {
    "collapsed": false
   },
   "outputs": [],
   "source": [
    "# Load final_model.pkl as model\n"
   ]
  },
  {
   "cell_type": "markdown",
   "metadata": {},
   "source": [
    "Great, let's begin."
   ]
  },
  {
   "cell_type": "markdown",
   "metadata": {},
   "source": [
    "<span id=\"confirm\"></span>\n",
    "# 1. Confirm your model was saved correctly\n",
    "\n",
    "One nice and quick sanity check we can do is confirm that our model was saved correctly.\n",
    "\n",
    "<br>\n",
    "**First, let's display the model object. We're confirming a few key details:**\n",
    "* It should be a model <code style=\"color:steelblue\">Pipeline</code>.\n",
    "* The first step should be a <code style=\"color:steelblue\">StandardScaler</code> preprocessing step.\n",
    "* The second step should be a <code style=\"color:steelblue\">RandomForestClassifier</code> model."
   ]
  },
  {
   "cell_type": "code",
   "execution_count": null,
   "metadata": {
    "collapsed": false
   },
   "outputs": [],
   "source": [
    "# Display model object\n"
   ]
  },
  {
   "cell_type": "markdown",
   "metadata": {},
   "source": [
    "**Next, load the same analytical base table that we imported at the beginning of Module 4.**"
   ]
  },
  {
   "cell_type": "code",
   "execution_count": null,
   "metadata": {
    "collapsed": false
   },
   "outputs": [],
   "source": [
    "# Load analytical base table used in Module 4\n"
   ]
  },
  {
   "cell_type": "markdown",
   "metadata": {},
   "source": [
    "**Next, split it into training and test sets.**\n",
    "* Remember to first separate the dataframe into separate objects for the target variable (<code style=\"color:steelblue\">y</code>) and the input features (<code style=\"color:steelblue\">X</code>).\n",
    "* <code style=\"color:steelblue\">test_size=0.2</code> (exactly the same as in Module 4)\n",
    "* <code style=\"color:steelblue\">random_state=1234</code> (exactly the same as in Module 4)\n",
    "* <code style=\"color:steelblue\">stratify=df.status</code> (exactly the same as in Module 4)"
   ]
  },
  {
   "cell_type": "code",
   "execution_count": null,
   "metadata": {
    "collapsed": false
   },
   "outputs": [],
   "source": [
    "# Create separate object for target variable\n",
    "\n",
    "\n",
    "# Create separate object for input features\n",
    "\n",
    "\n",
    "# Split X and y into train and test sets\n",
    "\n"
   ]
  },
  {
   "cell_type": "markdown",
   "metadata": {},
   "source": [
    "**Finally, use your model to predict <code style=\"color:steelblue\">X_test</code> again.**\n",
    "* Then, print the <code style=\"color:steelblue\">roc_auc_score</code>.\n",
    "* Remember the difference between <code style=\"color:steelblue\">.predict()</code> and <code style=\"color:steelblue\">.predict_proba()</code>"
   ]
  },
  {
   "cell_type": "code",
   "execution_count": null,
   "metadata": {
    "collapsed": false
   },
   "outputs": [],
   "source": [
    "# Predict X_test\n",
    "\n",
    "\n",
    "# Get just the prediction for the postive class (1)\n",
    "\n",
    "\n",
    "# Print AUROC\n"
   ]
  },
  {
   "cell_type": "markdown",
   "metadata": {},
   "source": [
    "Let's load some brand new, **raw data** that we've never seen before."
   ]
  },
  {
   "cell_type": "code",
   "execution_count": null,
   "metadata": {
    "collapsed": false
   },
   "outputs": [],
   "source": [
    "raw_data = pd.read_csv('project_files/unseen_raw_data.csv')\n",
    "\n",
    "print( raw_data.shape )\n",
    "raw_data.head()"
   ]
  },
  {
   "cell_type": "markdown",
   "metadata": {},
   "source": [
    "**Let's see what happens when we try to apply our model to this raw dataset.**"
   ]
  },
  {
   "cell_type": "code",
   "execution_count": null,
   "metadata": {
    "collapsed": false
   },
   "outputs": [],
   "source": [
    "# Should throw an error\n",
    "pred = model.predict_proba(raw_data)"
   ]
  },
  {
   "cell_type": "markdown",
   "metadata": {},
   "source": [
    "<div style=\"text-align:center; margin: 40px 0 40px 0; font-weight:bold\">\n",
    "<a href=\"#toc\">Back to Contents</a>\n",
    "</div>"
   ]
  },
  {
   "cell_type": "markdown",
   "metadata": {},
   "source": [
    "<span id=\"pre-model\"></span>\n",
    "# 2. Write pre-modeling functions\n",
    "\n",
    "All we need to do is write a few functions to **convert the raw data to the same format as the analytical base table**.\n",
    "\n",
    "<br>\n",
    "**Write a function called <code style=\"color:steelblue\">clean_data()</code> that bundles together all of the data cleaning steps.**\n",
    "* It's helpful to open up <span style=\"color:royalblue\">Module 2: ABT Construction</span> and go from top to bottom.\n",
    "* Only include steps that altered your dataframe! You can just copy-paste them here.\n",
    "* Check the Answer Key to confirm your answer."
   ]
  },
  {
   "cell_type": "code",
   "execution_count": null,
   "metadata": {
    "collapsed": false
   },
   "outputs": [],
   "source": [
    "def clean_data(df):\n",
    "    # Drop duplicates\n",
    "    \n",
    "    \n",
    "    # Drop temporary workers\n",
    "    \n",
    "    \n",
    "    # Missing filed_complaint values should be 0\n",
    "    \n",
    "\n",
    "    # Missing recently_promoted values should be 0\n",
    "    \n",
    "    \n",
    "    # 'information_technology' should be 'IT'\n",
    "    \n",
    "\n",
    "    # Fill missing values in department with 'Missing'\n",
    "    \n",
    "\n",
    "    # Indicator variable for missing last_evaluation\n",
    "    \n",
    "    \n",
    "    # Fill missing values in last_evaluation with 0\n",
    "    \n",
    "    \n",
    "    # Return cleaned dataframe\n",
    "    "
   ]
  },
  {
   "cell_type": "markdown",
   "metadata": {},
   "source": [
    "**Create a new DataFrame named <code style=\"color:steelblue\">cleaned_data</code> using the function you just wrote.**\n",
    "* Then display its first 5 rows."
   ]
  },
  {
   "cell_type": "code",
   "execution_count": null,
   "metadata": {
    "collapsed": false
   },
   "outputs": [],
   "source": [
    "# Create cleaned_new_data \n",
    "\n",
    "\n",
    "# Display first 5 rows\n"
   ]
  },
  {
   "cell_type": "markdown",
   "metadata": {},
   "source": [
    "**Next, write a function called <code style=\"color:steelblue\">engineer_features()</code> that compiles all of the feature engineering steps.**\n",
    "* Continue where you left off in <span style=\"color:Steelblue\">Module 2: ABT Construction</span> and continue going from top to bottom.\n",
    "* Only include steps that altered your dataframe!\n",
    "* Check the Answer Key to confirm your answer.\n",
    "* **Do not include any steps used to process the target variable**. We don't have that variable when predicting new, unseen observations."
   ]
  },
  {
   "cell_type": "code",
   "execution_count": null,
   "metadata": {
    "collapsed": true
   },
   "outputs": [],
   "source": [
    "def engineer_features(df):\n",
    "    # Create indicator features\n",
    "    \n",
    "    \n",
    "        \n",
    "    # Create new dataframe with dummy features\n",
    "\n",
    "    \n",
    "    # Return augmented DataFrame\n"
   ]
  },
  {
   "cell_type": "markdown",
   "metadata": {
    "collapsed": false
   },
   "source": [
    "**Create a new DataFrame named <code style=\"color:steelblue\">augmented_data</code> using the function you just wrote.**\n",
    "* Then display its first 5 rows.\n",
    "* Remember to pass in <code style=\"color:steelblue\">cleaned_data</code>, not <code style=\"color:steelblue\">raw_data</code>."
   ]
  },
  {
   "cell_type": "code",
   "execution_count": null,
   "metadata": {
    "collapsed": false
   },
   "outputs": [],
   "source": [
    "# Create augmented_new_data\n",
    "\n",
    "\n",
    "# Display first 5 rows\n"
   ]
  },
  {
   "cell_type": "markdown",
   "metadata": {},
   "source": [
    "**Predict probabilities for <code style=\"color:steelblue\">augmented_data</code> using your model.**\n",
    "* Then print the first 5 predictions."
   ]
  },
  {
   "cell_type": "code",
   "execution_count": null,
   "metadata": {
    "collapsed": false
   },
   "outputs": [],
   "source": [
    "# Predict probabilities\n",
    "\n",
    "\n",
    "# Print first 5 predictions\n"
   ]
  },
  {
   "cell_type": "markdown",
   "metadata": {},
   "source": [
    "<div style=\"text-align:center; margin: 40px 0 40px 0; font-weight:bold\">\n",
    "<a href=\"#toc\">Back to Contents</a>\n",
    "</div>"
   ]
  },
  {
   "cell_type": "markdown",
   "metadata": {},
   "source": [
    "<br id=\"model-class\">\n",
    "# 3. Construct a model class\n",
    "\n",
    "Great, now let's package these functions together into a single **model class**. \n",
    "\n",
    "<br>\n",
    "**Add the <code style=\"color:steelblue\">self.clean_data()</code> and <code style=\"color:steelblue\">self.engineer_features()</code> to the code below.**\n",
    "* These are the same functions you wrote earlier.\n",
    "* You can copy-paste, but remember to add <code style=\"color:steelblue\">self</code> as the first argument."
   ]
  },
  {
   "cell_type": "code",
   "execution_count": null,
   "metadata": {
    "collapsed": true
   },
   "outputs": [],
   "source": [
    "class EmployeeRetentionModel:\n",
    "    \n",
    "    def __init__(self, model_location):\n",
    "        with open(model_location, 'rb') as f:\n",
    "            self.model = pickle.load(f)\n",
    "    \n",
    "    def predict_proba(self, X_new, clean=True, augment=True):\n",
    "        if clean:\n",
    "            X_new = self.clean_data(X_new)\n",
    "        \n",
    "        if augment:\n",
    "            X_new = self.engineer_features(X_new)\n",
    "        \n",
    "        return X_new, self.model.predict_proba(X_new)\n",
    "    \n",
    "    # Add functions here\n",
    "    \n",
    "    "
   ]
  },
  {
   "cell_type": "markdown",
   "metadata": {},
   "source": [
    "<div style=\"text-align:center; margin: 40px 0 40px 0; font-weight:bold\">\n",
    "<a href=\"#toc\">Back to Contents</a>\n",
    "</div>"
   ]
  },
  {
   "cell_type": "markdown",
   "metadata": {},
   "source": [
    "<span id=\"jupyter\"></span>\n",
    "# 4. Method 1: Jupyter notebook\n",
    "\n",
    "In this course, we will cover 2 different ways to deploy your models.\n",
    "1. Keep it in Jupyter Notebook\n",
    "2. Port it to an executable script\n",
    "\n",
    "If you keep your model in Jupyter Notebook, you can directly use the model class you defined earlier.\n",
    "\n",
    "First, simply initialize an instance of it:"
   ]
  },
  {
   "cell_type": "code",
   "execution_count": null,
   "metadata": {
    "collapsed": false
   },
   "outputs": [],
   "source": [
    "# Initialize an instance\n",
    "retention_model = EmployeeRetentionModel('final_model.pkl')"
   ]
  },
  {
   "cell_type": "markdown",
   "metadata": {},
   "source": [
    "If implemented correctly, these next three statements should all work."
   ]
  },
  {
   "cell_type": "code",
   "execution_count": null,
   "metadata": {
    "collapsed": false
   },
   "outputs": [],
   "source": [
    "# Predict raw data\n",
    "_, pred1 = retention_model.predict_proba(raw_data, clean=True, augment=True)\n",
    "\n",
    "# Predict cleaned data\n",
    "_, pred2 = retention_model.predict_proba(cleaned_data, clean=False, augment=True)\n",
    "\n",
    "# Predict cleaned and augmented data\n",
    "_, pred3 = retention_model.predict_proba(augmented_data, clean=False, augment=False)"
   ]
  },
  {
   "cell_type": "markdown",
   "metadata": {
    "collapsed": false
   },
   "source": [
    "By the way, <code style=\"color:steelblue\">_, pred1 =</code> simply means we're throwing away the first object that's returned (which was <code style=\"color:steelblue\">X_new</code>).\n",
    "\n",
    "Their predictions should all be equivalent."
   ]
  },
  {
   "cell_type": "code",
   "execution_count": null,
   "metadata": {
    "collapsed": false
   },
   "outputs": [],
   "source": [
    "# Should be true\n",
    "np.array_equal(pred1, pred2) and np.array_equal(pred2, pred3)"
   ]
  },
  {
   "cell_type": "markdown",
   "metadata": {},
   "source": [
    "<div style=\"text-align:center; margin: 40px 0 40px 0; font-weight:bold\">\n",
    "<a href=\"#toc\">Back to Contents</a>\n",
    "</div>"
   ]
  },
  {
   "cell_type": "markdown",
   "metadata": {},
   "source": [
    "<span id=\"executable\"></span>\n",
    "# 5. Method 2: Executable script (optional)\n",
    "\n",
    "We've included an example script in the <code style=\"color:crimson\">project_files/</code> directory of the Workbook Bundle called <code style=\"color:crimson\">retention_model.py</code>.\n",
    "\n",
    "To run the script, you can call it from the command line:\n",
    "\n",
    "<pre style=\"color:crimson; margin-bottom:30px\">\n",
    "EDS:Module 5 - Project Delivery EDS$ python project_files/retention_model.py project_files/unseen_raw_data.csv predictions.csv final_model.pkl True True\n",
    "</pre>\n",
    "\n",
    "This saves a new file that includes the predictions. It looks like this:"
   ]
  },
  {
   "cell_type": "code",
   "execution_count": null,
   "metadata": {
    "collapsed": false
   },
   "outputs": [],
   "source": [
    "# Will only work after running the command above\n",
    "predictions = pd.read_csv('predictions.csv')\n",
    "\n",
    "predictions.head()"
   ]
  },
  {
   "cell_type": "markdown",
   "metadata": {},
   "source": [
    "<div style=\"text-align:center; margin: 40px 0 40px 0; font-weight:bold\">\n",
    "<a href=\"#toc\">Back to Contents</a>\n",
    "</div>"
   ]
  },
  {
   "cell_type": "markdown",
   "metadata": {
    "collapsed": true
   },
   "source": [
    "<br>\n",
    "## Next Steps\n",
    "\n",
    "Congratulations for completing the final module for <span style=\"color:royalblue\">Project 3: Employee Retention</span>!\n",
    "\n",
    "As a reminder, here are a few things you did in this module:\n",
    "* You created confirmed your model was saved correctly.\n",
    "* You compiled data cleaning and feature engineering functions from code you wrote in past modules.\n",
    "* You learned how to package everything together in a custom model class.\n",
    "* And you applied your model to raw data in Jupyter Notebook.\n",
    "\n",
    "In the next project, <span style=\"color:royalblue\">Project 4: Customer Segmentations</span>, you'll get to practice unsupervised learning for the first time. Specifically, the task of **clustering**. As you'll see, even for unsupervised learning, much of this machine learning workflow will remain the same.\n",
    "\n",
    "<div style=\"text-align:center; margin: 40px 0 40px 0; font-weight:bold\">\n",
    "<a href=\"#toc\">Back to Contents</a>\n",
    "</div>"
   ]
  }
 ],
 "metadata": {
  "kernelspec": {
   "display_name": "Python 2",
   "language": "python",
   "name": "python2"
  },
  "language_info": {
   "codemirror_mode": {
    "name": "ipython",
    "version": 2
   },
   "file_extension": ".py",
   "mimetype": "text/x-python",
   "name": "python",
   "nbconvert_exporter": "python",
   "pygments_lexer": "ipython2",
   "version": "2.7.11"
  }
 },
 "nbformat": 4,
 "nbformat_minor": 0
}
