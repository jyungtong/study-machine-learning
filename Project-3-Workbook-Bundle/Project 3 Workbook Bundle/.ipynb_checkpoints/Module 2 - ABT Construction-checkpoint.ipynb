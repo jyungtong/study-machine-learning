{
 "cells": [
  {
   "cell_type": "markdown",
   "metadata": {},
   "source": [
    "<h1 style=\"font-size:42px; text-align:center; margin-bottom:30px;\"><span style=\"color:SteelBlue\">Module 2\n",
    ":</span> ABT Construction</h1>\n",
    "<hr>\n",
    "Welcome to the workbook for <span style=\"color:royalblue\">Module 2: ABT Construction</span>! \n",
    "\n",
    "In this module, we're going to combine the **Data Cleaning** and **Feature Engineering** steps from Project 2.\n",
    "\n",
    "Remember, **better data beats better algorithms**.\n",
    "\n",
    "\n",
    "<br><hr id=\"toc\">\n",
    "\n",
    "### In this module...\n",
    "\n",
    "In this module, we'll cover the essential steps for building your analytical base table:\n",
    "1. [Drop unwanted observations](#drop)\n",
    "2. [Fix structural errors](#structural)\n",
    "3. [Handle missing data](#missing-data)\n",
    "4. [Engineer features](#engineer-features)\n",
    "5. [Save the ABT](#save-abt)\n",
    "\n",
    "Finally, we'll save the ABT to a new file so we can use it in other modules.\n",
    "\n",
    "<br><hr>\n",
    "\n",
    "ps: ABT stands for **analytical base table**"
   ]
  },
  {
   "cell_type": "markdown",
   "metadata": {},
   "source": [
    "### First, let's import libraries and load the dataset.\n",
    "\n",
    "In general, it's good practice to keep all of your library imports at the top of your notebook or program.\n",
    "\n",
    "We've provided comments for guidance."
   ]
  },
  {
   "cell_type": "code",
   "execution_count": null,
   "metadata": {},
   "outputs": [],
   "source": [
    "# print_function for compatibility with Python 3\n",
    "\n",
    "# NumPy for numerical computing\n",
    "import numpy as np\n",
    "\n",
    "# Pandas for DataFrames\n",
    "import pandas as pd\n",
    "\n",
    "\n",
    "# Matplotlib for visualization\n",
    "from matplotlib import pyplot as plt\n",
    "\n",
    "# display plots in the notebook\n",
    "%matplotlib inline\n",
    "\n",
    "# Seaborn for easier visualization\n",
    "import seaborn as sn"
   ]
  },
  {
   "cell_type": "markdown",
   "metadata": {},
   "source": [
    "Next, let's import the dataset.\n",
    "* The file path is <code style=\"color:crimson\">'project_files/employee_data.csv'</code>"
   ]
  },
  {
   "cell_type": "code",
   "execution_count": null,
   "metadata": {},
   "outputs": [],
   "source": [
    "# Load employee data from CSV\n"
   ]
  },
  {
   "cell_type": "markdown",
   "metadata": {},
   "source": [
    "Now we're ready to jump into cleaning the data!"
   ]
  },
  {
   "cell_type": "markdown",
   "metadata": {},
   "source": [
    "<span id=\"drop\"></span>\n",
    "# 1. Drop wanted observations\n",
    "\n",
    "The first step to data cleaning is removing samples from your dataset that you don't want to include in the model.\n",
    "\n",
    "<br>\n",
    "**First, <span style=\"color:royalblue\">drop duplicates</span> from the dataset.**\n",
    "* Then, print the shape of the new dataframe."
   ]
  },
  {
   "cell_type": "code",
   "execution_count": null,
   "metadata": {},
   "outputs": [],
   "source": [
    "# Drop duplicates\n"
   ]
  },
  {
   "cell_type": "markdown",
   "metadata": {},
   "source": [
    "**Display all of the unique classes of the <code style=\"color:steelblue\">'department'</code> feature**"
   ]
  },
  {
   "cell_type": "code",
   "execution_count": null,
   "metadata": {},
   "outputs": [],
   "source": [
    "# Unique classes of 'department'\n"
   ]
  },
  {
   "cell_type": "markdown",
   "metadata": {},
   "source": [
    "**Drop all observations that belong to the <span style=\"color:crimson\">'temp'</span> department.**\n",
    "* **Hint:** This is the same as keeping all that don't belong to that department.\n",
    "* **Hint:** Remember to overwrite your original dataframe.\n",
    "* Then, print the shape of the new dataframe."
   ]
  },
  {
   "cell_type": "code",
   "execution_count": null,
   "metadata": {
    "scrolled": true
   },
   "outputs": [],
   "source": [
    "# Drop temporary workers\n"
   ]
  },
  {
   "cell_type": "markdown",
   "metadata": {},
   "source": [
    "<p style=\"text-align:center; margin: 40px 0 40px 0; font-weight:bold\">\n",
    "<a href=\"#toc\">Back to Contents</a>\n",
    "</p>"
   ]
  },
  {
   "cell_type": "markdown",
   "metadata": {},
   "source": [
    "<span id=\"structural\"></span>\n",
    "# 2. Fix structural errors\n",
    "\n",
    "The next bucket under data cleaning involves fixing structural errors, which arise during measurement, data transfer, or other types of \"poor housekeeping.\"\n",
    "\n",
    "<br>\n",
    "**Print the unique values of <code style=\"color:steelblue\">'filed_complaint'</code> and <code style=\"color:steelblue\">'recently_promoted'</code>.**"
   ]
  },
  {
   "cell_type": "code",
   "execution_count": null,
   "metadata": {},
   "outputs": [],
   "source": [
    "# Print unique values of 'filed_complaint'\n",
    "\n",
    "# Print unique values of 'recently_promoted'\n"
   ]
  },
  {
   "cell_type": "markdown",
   "metadata": {},
   "source": [
    "**Fill missing <code style=\"color:steelblue\">'filed_complaint'</code> and <code style=\"color:steelblue\">'recently_promoted'</code> values with <code style=\"color:crimson\">0</code>.**"
   ]
  },
  {
   "cell_type": "code",
   "execution_count": null,
   "metadata": {},
   "outputs": [],
   "source": [
    "# Missing filed_complaint values should be 0\n",
    "\n",
    "# Missing recently_promoted values should be 0\n"
   ]
  },
  {
   "cell_type": "markdown",
   "metadata": {},
   "source": [
    "**Print the unique values of <code style=\"color:steelblue\">'filed_complaint'</code> and <code style=\"color:steelblue\">'recently_promoted'</code> again, just to confirm.**"
   ]
  },
  {
   "cell_type": "code",
   "execution_count": null,
   "metadata": {},
   "outputs": [],
   "source": [
    "# Print unique values of 'filed_complaint'\n",
    "\n",
    "# Print unique values of 'recently_promoted'\n"
   ]
  },
  {
   "cell_type": "markdown",
   "metadata": {},
   "source": [
    "**Replace any instances of <code style=\"color:crimson\">'information_technology'</code> with <code style=\"color:crimson\">'IT'</code> instead.**\n",
    "* Remember to do it **inplace**.\n",
    "* Then, plot the **bar chart** for <code style=\"color:steelblue\">'department'</code> to see its new distribution."
   ]
  },
  {
   "cell_type": "code",
   "execution_count": null,
   "metadata": {},
   "outputs": [],
   "source": [
    "# 'information_technology' should be 'IT'\n",
    "\n",
    "# Plot class distributions for 'department'\n"
   ]
  },
  {
   "cell_type": "markdown",
   "metadata": {},
   "source": [
    "<p style=\"text-align:center; margin: 40px 0 40px 0; font-weight:bold\">\n",
    "<a href=\"#toc\">Back to Contents</a>\n",
    "</p>"
   ]
  },
  {
   "cell_type": "markdown",
   "metadata": {},
   "source": [
    "<span id=\"missing-data\"></span>\n",
    "# 3. Handle missing data\n",
    "\n",
    "Next, it's time to handle **missing data**. \n",
    "\n",
    "<br>\n",
    "**Display the <span style=\"color:royalblue\">number of missing values</span> for each feature (both categorical and numeric).**"
   ]
  },
  {
   "cell_type": "code",
   "execution_count": null,
   "metadata": {},
   "outputs": [],
   "source": [
    "# Display number of missing values by feature\n"
   ]
  },
  {
   "cell_type": "markdown",
   "metadata": {},
   "source": [
    "**Label missing values in <code style=\"color:steelblue\">'department'</code> as <code style=\"color:crimson\">'Missing'</code>.**\n",
    "* By the way, the <code style=\"color:steelblue\">.fillna()</code> function also has an <code style=\"color:steelblue\">inplace=</code> argument, just like the <code style=\"color:steelblue\">.replace()</code> function.\n",
    "* In the previous project, we just overwrote that column. This time, try using the <code style=\"color:steelblue\">inplace=</code> argument instead."
   ]
  },
  {
   "cell_type": "code",
   "execution_count": null,
   "metadata": {},
   "outputs": [],
   "source": [
    "# Fill missing values in department with 'Missing'\n"
   ]
  },
  {
   "cell_type": "markdown",
   "metadata": {},
   "source": [
    "**First, let's flag <code style=\"color:steelblue\">'last_evaluation'</code> with an indicator variable of missingness.** \n",
    "* <code style=\"color:crimson\">0</code> if not missing.\n",
    "* <code style=\"color:crimson\">1</code> if missing. \n",
    "\n",
    "Let's name the new indicator variable <code style=\"color:steelblue\">'last_evaluation_missing'</code>.\n",
    "* We can use the <code style=\"color:steelblue\">.isnull()</code> function.\n",
    "* Also, remember to convert it with <code style=\"color:steelblue\">.astype(int)</code>"
   ]
  },
  {
   "cell_type": "code",
   "execution_count": null,
   "metadata": {},
   "outputs": [],
   "source": [
    "# Indicator variable for missing last_evaluation\n"
   ]
  },
  {
   "cell_type": "markdown",
   "metadata": {},
   "source": [
    "**Then, simply fill in the original missing value with <code style=\"color:crimson\">0</code> just so your algorithms can run properly.**"
   ]
  },
  {
   "cell_type": "code",
   "execution_count": null,
   "metadata": {},
   "outputs": [],
   "source": [
    "# Fill missing values in last_evaluation with 0\n"
   ]
  },
  {
   "cell_type": "markdown",
   "metadata": {},
   "source": [
    "**Display the number of missing values for each feature (both categorical and numeric) again, just to confirm.**"
   ]
  },
  {
   "cell_type": "code",
   "execution_count": null,
   "metadata": {},
   "outputs": [],
   "source": [
    "# Display number of missing values by feature\n"
   ]
  },
  {
   "cell_type": "markdown",
   "metadata": {},
   "source": [
    "<p style=\"text-align:center; margin: 40px 0 40px 0; font-weight:bold\">\n",
    "<a href=\"#toc\">Back to Contents</a>\n",
    "</p>"
   ]
  },
  {
   "cell_type": "markdown",
   "metadata": {},
   "source": [
    "<span id=\"engineer-features\"></span>\n",
    "# 4. Engineer features\n",
    "\n",
    "For this project, we're going to have an abbreviated version of feature engineering, since we've already covered many tactics in Project 2.\n",
    "\n",
    "<br>\n",
    "Do you remember the scatterplot of <code style=\"color:steelblue\">'satisfaction'</code> and <code style=\"color:steelblue\">'last_evaluation'</code> for employees who have <code style=\"color:crimson\">'Left'</code>?\n",
    "\n",
    "**Let's reproduce it here, just so we have it in front of us.**"
   ]
  },
  {
   "cell_type": "code",
   "execution_count": null,
   "metadata": {},
   "outputs": [],
   "source": [
    "# Scatterplot of satisfaction vs. last_evaluation, only those who have left\n"
   ]
  },
  {
   "cell_type": "markdown",
   "metadata": {},
   "source": [
    "These roughly translate to 3 **indicator features** we can engineer:\n",
    "\n",
    "* <code style=\"color:steelblue\">'underperformer'</code> - last_evaluation < 0.6 and last_evaluation_missing == 0\n",
    "* <code style=\"color:steelblue\">'unhappy'</code> - satisfaction_level < 0.2\n",
    "* <code style=\"color:steelblue\">'overachiever'</code> - last_evaluation > 0.8 and satisfaction > 0.7\n",
    "\n",
    "<br>\n",
    "**Create those 3 indicator features.**\n",
    "* Use boolean masks.\n",
    "* **Important:** For <code style=\"color:steelblue\">'underperformer'</code>, it's important to include <code style=\"color:steelblue\">'last_evaluation_missing' == 0</code> to avoid those originally missing observations that we flagged and filled."
   ]
  },
  {
   "cell_type": "code",
   "execution_count": null,
   "metadata": {},
   "outputs": [],
   "source": [
    "# Create indicator features\n"
   ]
  },
  {
   "cell_type": "markdown",
   "metadata": {},
   "source": [
    "<br>\n",
    "**Next, run this code to check that you created the features correctly.**"
   ]
  },
  {
   "cell_type": "code",
   "execution_count": null,
   "metadata": {},
   "outputs": [],
   "source": [
    "# The proportion of observations belonging to each group\n",
    "df[['underperformer', 'unhappy', 'overachiever']].mean()"
   ]
  },
  {
   "cell_type": "markdown",
   "metadata": {},
   "source": [
    "<p style=\"text-align:center; margin: 40px 0 40px 0; font-weight:bold\">\n",
    "<a href=\"#toc\">Back to Contents</a>\n",
    "</p>"
   ]
  },
  {
   "cell_type": "markdown",
   "metadata": {},
   "source": [
    "<span id=\"save-abt\"></span>\n",
    "# 5. Save the ABT\n",
    "\n",
    "Finally, let's save the **analytical base table**. \n",
    "\n",
    "<br>\n",
    "**Convert <code style=\"color:steelblue\">'status'</code> into an indicator variable.**\n",
    "* <code style=\"color:crimson\">'Left'</code> should be <code style=\"color:crimson\">1</code>\n",
    "* <code style=\"color:crimson\">'Employed'</code> should be <code style=\"color:crimson\">0</code>\n",
    "* There's also a really easy way you can use <code style=\"color:steelblue\">pd.get_dummies()</code> here. See below."
   ]
  },
  {
   "cell_type": "code",
   "execution_count": null,
   "metadata": {},
   "outputs": [],
   "source": [
    " # Convert status to an indicator variable\n",
    "df['status'] = pd.get_dummies( df.status ).Left"
   ]
  },
  {
   "cell_type": "markdown",
   "metadata": {},
   "source": [
    "**To confirm we did that correctly, display the proportion of people in our dataset who left.**"
   ]
  },
  {
   "cell_type": "code",
   "execution_count": null,
   "metadata": {},
   "outputs": [],
   "source": [
    "# The proportion of observations who 'Left'\n"
   ]
  },
  {
   "cell_type": "markdown",
   "metadata": {},
   "source": [
    "**Overwrite your dataframe with a version that has <span style=\"color:royalblue\">dummy variables</span> for the categorical features.**\n",
    "* Then, display the first 10 rows to confirm all of the changes we've made so far in this module."
   ]
  },
  {
   "cell_type": "code",
   "execution_count": null,
   "metadata": {},
   "outputs": [],
   "source": [
    "# Create new dataframe with dummy features\n",
    "\n",
    "# Display first 10 rows\n"
   ]
  },
  {
   "cell_type": "markdown",
   "metadata": {},
   "source": [
    "**Save this dataframe as your <span style=\"color:royalblue\">analytical base table</span> to use in later modules.**\n",
    "* Remember to set the argument <code style=\"color:steelblue\">index=None</code> to save only the data."
   ]
  },
  {
   "cell_type": "code",
   "execution_count": null,
   "metadata": {
    "collapsed": true
   },
   "outputs": [],
   "source": [
    "# Save analytical base table\n"
   ]
  },
  {
   "cell_type": "markdown",
   "metadata": {},
   "source": [
    "<p style=\"text-align:center; margin: 40px 0 40px 0; font-weight:bold\">\n",
    "<a href=\"#toc\">Back to Contents</a>\n",
    "</p>"
   ]
  },
  {
   "cell_type": "markdown",
   "metadata": {},
   "source": [
    "<br>\n",
    "## Next Steps\n",
    "\n",
    "Congratulations for making through Project 3's ABT Construction module!\n",
    "\n",
    "As a reminder, here are a few things you did in this module:\n",
    "* You cleaned dropped irrelevant observations from the dataset.\n",
    "* You fixed various structural errors, such as wannabe indicator variables.\n",
    "* You handled missing data.\n",
    "* You engineered features by leveraging your exploratory analysis.\n",
    "* And you created dummy variables before saving the ABT.\n",
    "\n",
    "In the next module, <span style=\"color:royalblue\">Module 3: Classification Algorithms</span>, we'll take a detour from the project and dive into some more machine learning concepts. We'll also introduce the classification algorithms we'll be using for this project.\n",
    "\n",
    "<p style=\"text-align:center; margin: 40px 0 40px 0; font-weight:bold\">\n",
    "<a href=\"#toc\">Back to Contents</a>\n",
    "</p>"
   ]
  }
 ],
 "metadata": {
  "anaconda-cloud": {},
  "kernelspec": {
   "display_name": "Python 3",
   "language": "python",
   "name": "python3"
  },
  "language_info": {
   "codemirror_mode": {
    "name": "ipython",
    "version": 3
   },
   "file_extension": ".py",
   "mimetype": "text/x-python",
   "name": "python",
   "nbconvert_exporter": "python",
   "pygments_lexer": "ipython3",
   "version": "3.6.3"
  }
 },
 "nbformat": 4,
 "nbformat_minor": 1
}
